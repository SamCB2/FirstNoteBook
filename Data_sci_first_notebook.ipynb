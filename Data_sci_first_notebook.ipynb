{
 "cells": [
  {
   "cell_type": "markdown",
   "id": "527427ca-a9c6-40ad-acdc-9c98ab2f3405",
   "metadata": {},
   "source": [
    "# Data Science Tools and Ecosystem"
   ]
  },
  {
   "cell_type": "markdown",
   "id": "397eb557-a903-460b-be8e-ed605d7a6de3",
   "metadata": {},
   "source": [
    "## Introduction\n",
    "\n",
    "In this notebook, Data Science Tools and Ecosystem are summarized."
   ]
  },
  {
   "cell_type": "markdown",
   "id": "89f552a6-ec52-4463-830a-48bd3be8eadf",
   "metadata": {},
   "source": [
    "Some of the popular languages that Data Scientists use are:\n",
    "1. Python\n",
    "2. R\n",
    "3. Java\n",
    "4. C++"
   ]
  },
  {
   "cell_type": "markdown",
   "id": "f2c41d9e-d4be-4910-b8f7-ce61698348d1",
   "metadata": {},
   "source": [
    "Some of the commonly used libraries used by Data Scientists include:\n",
    "1. NumPy\n",
    "2. Keras\n",
    "3. SciPy\n",
    "4. PyTorch"
   ]
  },
  {
   "cell_type": "markdown",
   "id": "10675cf3-7453-4551-9d4e-49660b08306d",
   "metadata": {},
   "source": [
    "|Data Science Tools|\n",
    "|---|\n",
    "|VScode|\n",
    "|---|\n",
    "|Jupyter Notebook|\n",
    "|---|\n",
    "|RStudio|\n",
    "|---|"
   ]
  },
  {
   "cell_type": "markdown",
   "id": "c89cfc9b-5840-4d58-90be-7593b9280ca5",
   "metadata": {},
   "source": [
    "### Below are a few examples of evaluating arithmetic expressions in Python\n"
   ]
  },
  {
   "cell_type": "markdown",
   "id": "390c3ee5-bba3-46b2-95ce-66e25f993786",
   "metadata": {},
   "source": [
    "This a simple arithmetic expression to mutiply then add integers"
   ]
  },
  {
   "cell_type": "code",
   "execution_count": 1,
   "id": "a4c8fa16-ef9a-4406-855b-c8f2e7c35d51",
   "metadata": {},
   "outputs": [
    {
     "data": {
      "text/plain": [
       "17"
      ]
     },
     "execution_count": 1,
     "metadata": {},
     "output_type": "execute_result"
    },
    {
     "name": "stdout",
     "output_type": "stream",
     "text": [
      "The history saving thread hit an unexpected error (OperationalError('attempt to write a readonly database')).History will not be written to the database.\n"
     ]
    }
   ],
   "source": [
    "(3*4)+5"
   ]
  },
  {
   "cell_type": "markdown",
   "id": "4fcfd554-de8d-4a24-87fd-07a8b6850203",
   "metadata": {},
   "source": [
    "This will convert 200 minutes to hours by diving by 60"
   ]
  },
  {
   "cell_type": "code",
   "execution_count": 2,
   "id": "b6174d74-2ae0-4522-ba9e-bd954fe473cd",
   "metadata": {},
   "outputs": [
    {
     "data": {
      "text/plain": [
       "3.3333333333333335"
      ]
     },
     "execution_count": 2,
     "metadata": {},
     "output_type": "execute_result"
    }
   ],
   "source": [
    "200/60"
   ]
  },
  {
   "cell_type": "markdown",
   "id": "ef561f3a-ee4e-4d8f-b6f9-5ba42668a56f",
   "metadata": {},
   "source": [
    "#### Objective:\n",
    "- Popular languages in Data Science\n",
    "- Commonly used libraries in Data Science\n",
    "- Data Science Tools"
   ]
  },
  {
   "cell_type": "markdown",
   "id": "ab4f5d2b-1580-4401-8bbd-fb8b529940f2",
   "metadata": {},
   "source": [
    "## Author\n",
    "Samer Meleka"
   ]
  },
  {
   "cell_type": "code",
   "execution_count": null,
   "id": "ace6bdb6-8aed-4c3d-b31e-d61027829f69",
   "metadata": {},
   "outputs": [],
   "source": []
  }
 ],
 "metadata": {
  "kernelspec": {
   "display_name": "Python 3 (ipykernel)",
   "language": "python",
   "name": "python3"
  },
  "language_info": {
   "codemirror_mode": {
    "name": "ipython",
    "version": 3
   },
   "file_extension": ".py",
   "mimetype": "text/x-python",
   "name": "python",
   "nbconvert_exporter": "python",
   "pygments_lexer": "ipython3",
   "version": "3.11.6"
  }
 },
 "nbformat": 4,
 "nbformat_minor": 5
}
